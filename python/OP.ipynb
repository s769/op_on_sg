{
  "nbformat": 4,
  "nbformat_minor": 0,
  "metadata": {
    "colab": {
      "name": "OP.ipynb",
      "version": "0.3.2",
      "provenance": [],
      "collapsed_sections": [],
      "toc_visible": true,
      "include_colab_link": true
    },
    "kernelspec": {
      "name": "python3",
      "display_name": "Python 3"
    },
    "accelerator": "GPU"
  },
  "cells": [
    {
      "cell_type": "markdown",
      "metadata": {
        "id": "view-in-github",
        "colab_type": "text"
      },
      "source": [
        "<a href=\"https://colab.research.google.com/github/s769/op_on_sg/blob/master/OP.ipynb\" target=\"_parent\"><img src=\"https://colab.research.google.com/assets/colab-badge.svg\" alt=\"Open In Colab\"/></a>"
      ]
    },
    {
      "cell_type": "code",
      "metadata": {
        "colab_type": "code",
        "id": "X7-PBKVeKPDU",
        "colab": {}
      },
      "source": [
        ""
      ],
      "execution_count": 0,
      "outputs": []
    },
    {
      "cell_type": "markdown",
      "metadata": {
        "id": "3G5a4XwvWBK3",
        "colab_type": "text"
      },
      "source": [
        "#Imports and Data"
      ]
    },
    {
      "cell_type": "code",
      "metadata": {
        "id": "fEKnbc2cVMmO",
        "colab_type": "code",
        "outputId": "87a8003a-2e25-4d0a-9c17-b83db64ad006",
        "colab": {
          "base_uri": "https://localhost:8080/",
          "height": 122
        }
      },
      "source": [
        "#mount google drive\n",
        "from google.colab import drive\n",
        "drive.mount('/content/gdrive')"
      ],
      "execution_count": 0,
      "outputs": [
        {
          "output_type": "stream",
          "text": [
            "Go to this URL in a browser: https://accounts.google.com/o/oauth2/auth?client_id=947318989803-6bn6qk8qdgf4n4g3pfee6491hc0brc4i.apps.googleusercontent.com&redirect_uri=urn%3Aietf%3Awg%3Aoauth%3A2.0%3Aoob&scope=email%20https%3A%2F%2Fwww.googleapis.com%2Fauth%2Fdocs.test%20https%3A%2F%2Fwww.googleapis.com%2Fauth%2Fdrive%20https%3A%2F%2Fwww.googleapis.com%2Fauth%2Fdrive.photos.readonly%20https%3A%2F%2Fwww.googleapis.com%2Fauth%2Fpeopleapi.readonly&response_type=code\n",
            "\n",
            "Enter your authorization code:\n",
            "··········\n",
            "Mounted at /content/gdrive\n"
          ],
          "name": "stdout"
        }
      ]
    },
    {
      "cell_type": "code",
      "metadata": {
        "id": "nzB7llolVTz0",
        "colab_type": "code",
        "outputId": "e31aa5b6-d8d5-49cb-9242-4608e1c7fa3c",
        "colab": {
          "base_uri": "https://localhost:8080/",
          "height": 155
        }
      },
      "source": [
        "#imports and loading data\n",
        "import numpy as np\n",
        "import scipy as sp\n",
        "import pandas as pd\n",
        "from matplotlib import pyplot as plt\n",
        "import matplotlib.mlab as mlab\n",
        "!pip install matlab\n",
        "import matlab\n",
        "# filepath = '/content/gdrive/My\\ Drive/Colab\\ Notebooks/'\n",
        "# folder = 'ENTER FOLDER HERE'\n",
        "# filepath += folder\n",
        "# !cp  /content/gdrive/My\\ Drive/Colab\\ Notebooks/DATA FILE /content/DATA FILE\n",
        "!mkdir images"
      ],
      "execution_count": 1,
      "outputs": [
        {
          "output_type": "stream",
          "text": [
            "Collecting matlab\n",
            "  Downloading https://files.pythonhosted.org/packages/d1/ea/1ecc1d9dfde594111b395dff9637183225dfb55b54fff4a906ba0ad5095a/matlab-0.1.tar.gz\n",
            "Building wheels for collected packages: matlab\n",
            "  Building wheel for matlab (setup.py) ... \u001b[?25l\u001b[?25hdone\n",
            "  Stored in directory: /root/.cache/pip/wheels/fe/ea/9a/2d99da71ec929e083a47e62aa641d25c95cb0cb32fb288b817\n",
            "Successfully built matlab\n",
            "Installing collected packages: matlab\n",
            "Successfully installed matlab-0.1\n"
          ],
          "name": "stdout"
        }
      ]
    },
    {
      "cell_type": "code",
      "metadata": {
        "id": "8FD9s7tqVkCx",
        "colab_type": "code",
        "colab": {}
      },
      "source": [
        "def array(*args, **kwargs):\n",
        "    kwargs.setdefault(\"dtype\", np.float32)\n",
        "    return np.array(*args, **kwargs)\n",
        "  \n",
        "def mem(func):\n",
        "    cache = dict()\n",
        "\n",
        "    def memoized_func(*args):\n",
        "        if args in cache:\n",
        "            return cache[args]\n",
        "        result = func(*args)\n",
        "        cache[args] = result\n",
        "        return result\n",
        "\n",
        "    return memoized_func\n",
        "\n",
        "@mem\n",
        "def a(j):\n",
        "  if j==0: return 1\n",
        "  if j==1: return 1/6\n",
        "  res = 0\n",
        "  for l in range(1, j):\n",
        "    res += a(j-l)*a(l)\n",
        "  return res*4/(5**j - 5)\n",
        "\n",
        "\n",
        "@mem\n",
        "def b(j):\n",
        "  if j==0: return -1/2\n",
        "  res = 0\n",
        "  for l in range(j):\n",
        "    res += (3*5**(j-l) - 5**(l+1) + 6)*a(j-l)*b(l)\n",
        "  return res*2/(15*(5**j - 1))\n",
        "\n",
        "@mem\n",
        "def g(j):\n",
        "  return 3*a(j+1)\n",
        "\n",
        "@mem\n",
        "def n(j):\n",
        "  if j==0: return 0\n",
        "  res = a(j)*(5**j + 1)/2\n",
        "  for l in range(j):\n",
        "    res += 2*n(l)*b(j-l)\n",
        "  return res\n",
        "\n",
        "@mem\n",
        "def ap(j):\n",
        "  if j==0: return 1/2\n",
        "  return a(j)"
      ],
      "execution_count": 0,
      "outputs": []
    },
    {
      "cell_type": "code",
      "metadata": {
        "id": "T7NxVrjdYwsl",
        "colab_type": "code",
        "colab": {}
      },
      "source": [
        "\n",
        "\n",
        "# def inner_j1k1(j, k, energy=False):\n",
        "#   if energy:\n",
        "#     res = 2*a(k)*n(j)\n",
        "#     ms = min(j, k)\n",
        "#     s1 = 0\n",
        "#     for l in range(j-ms, j+1):\n",
        "#       s1 += a(j-l)*n(k+l+1) - a(k+l+1)*n(j-l)\n",
        "#     s2 = 0\n",
        "#     for l in range(j-ms-1, j):\n",
        "#       s2 += a(j-l-1)*n(k+l+1) - a(k+l+1)*n(j-l-1)\n",
        "\n",
        "#     return res + 2*(s1-s2)\n",
        "  \n",
        "\n",
        "#   ms = min(j, k)\n",
        "#   s1 = 0\n",
        "#   for l in range(j-ms, j+1):\n",
        "#     s1 += a(j-l)*n(k+l+1) - a(k+l+1)*n(j-l)\n",
        "#   s2 = 0\n",
        "#   for l in range(j-ms-1, j):\n",
        "#     s2 += a(j-l-1)*n(k+l) - a(k+l)*n(j-l-1)\n",
        "  \n",
        "#   return 2*(s1+s2)\n",
        "\n",
        "\n",
        "def inner0_j1k1(j, k):\n",
        "  ms = min(j, k)\n",
        "  s1 = 0\n",
        "  for l in range(j-ms, j+1):\n",
        "    s1 += a(j-l)*n(k+l+1) - a(k+l+1)*n(j-l)\n",
        "  return 2*s1\n",
        "\n",
        "# def inner_j2k2(j, k, energy=False):\n",
        "#   if energy:\n",
        "#     res = -2*b(k)*a(j)\n",
        "#     s1 = 0\n",
        "#     ms = min(j, k)\n",
        "#     for l in range(j-ms, j+1):\n",
        "#       s1 += b(j-l)*a(k+l+1) - b(k+l+1)*a(j-l)\n",
        "#     s2 = 0\n",
        "#     for l in range(j-ms-1, j):\n",
        "#       s2 += b(j-l-1)*a(k+l+1) - b(k+l+1)*a(j-l-1)\n",
        "\n",
        "#     return res - 2*(s1-s2)\n",
        "  \n",
        "#   ms = min(j, k)\n",
        "#   s1 = 0\n",
        "#   for l in range(j-ms, j+1):\n",
        "#     s1 += b(j-l)*a(k+l+1) - b(k+l+1)*a(j-l)\n",
        "#   s2 = 0\n",
        "#   for l in range(j-ms-1, j):\n",
        "#     s2 += b(j-l-1)*a(k+l) - b(k+l)*a(j-l-1)\n",
        "  \n",
        "#   return -2*(s1+s2)\n",
        "\n",
        "def inner0_j2k2(j, k):\n",
        "  ms = min(j, k)\n",
        "  s1 = 0\n",
        "  for l in range(j-ms, j+1):\n",
        "    s1 += b(j-l)*a(k+l+1) - b(k+l+1)*ap(j-l)\n",
        "  return -2*s1\n",
        "\n",
        "# def inner_j3k3(j, k, energy=False):\n",
        "#   if energy:\n",
        "#     res = 6*g(k)*n(k)\n",
        "#     ms = min(j, k)\n",
        "#     s1 = 0\n",
        "#     for l in range(j-ms, j+1):\n",
        "#       s1 += a(j-l+1)*n(k+l+2) - a(k+l+2)*n(j-l+1)\n",
        "#     s2 = 0\n",
        "#     for l in range(j-ms-1, j):\n",
        "#       s2 += a(j-l)*n(k+l+2) - a(k+l+2)*n(j-l)\n",
        "\n",
        "#     return res + 18*(s1-s2)\n",
        "  \n",
        "#   ms = min(j, k)\n",
        "#   s1 = 0\n",
        "#   for l in range(j-ms, j+1):\n",
        "#     s1 += a(j-l+1)*n(k+l+2) - a(k+l+2)*n(j-l+1)\n",
        "#   s2 = 0\n",
        "#   for l in range(j-ms-1, j):\n",
        "#     s2 += a(j-l)*n(k+l+1) - a(k+l+1)*n(j-l)\n",
        "  \n",
        "#   return 18*(s1+s2)\n",
        "\n",
        "def inner0_j3k3(j, k):\n",
        "  ms = min(j, k)\n",
        "  s1 = 0\n",
        "  for l in range(j-ms, j+1):\n",
        "    s1 += a(j-l+1)*n(k+l+2) - a(k+l+2)*n(j-l+1)\n",
        "  return 18*s1\n",
        "\n",
        "# def inner_j1k2(j, k, energy=False):\n",
        "#   if energy:\n",
        "#     res = 2*b(k)*n(k)\n",
        "#     s1 = 0\n",
        "#     for l in range(j+1):\n",
        "#       s1 += a(j-l)*a(k+1+l) + b(k+1+l)*n(j-l)\n",
        "#     s2 = 0  \n",
        "#     for l in range(j):\n",
        "#       s2 += a(j-l-1)*a(k+1+l) + b(k+1+l)*n(j-l-1)\n",
        "\n",
        "#     return res - 2*(s1-s2)\n",
        "  \n",
        "#   s1 = 0\n",
        "#   for l in range(j+1):\n",
        "#     s1 += a(j-l)*a(k+l+1) + b(k+l+1)*n(j-l)\n",
        "#   s2 = 0\n",
        "#   for l in range(j):\n",
        "#     s2 += a(j-l-1)*a(k+l) + b(k+l)*n(j-l-1)\n",
        "  \n",
        "#   return -2*(s1+s2)\n",
        "\n",
        "def inner0_j1k2(j, k):\n",
        "  s1 = 0\n",
        "  for l in range(j+1):\n",
        "    s1 += a(j-l)*a(k+l+1) + b(k+l+1)*n(j-l)\n",
        "  return -2*s1\n",
        "  \n",
        "\n",
        "\n",
        "\n",
        "inner0_j1k3 = lambda j, k: 0\n",
        "inner0_j2k3 = lambda j, k: 0\n",
        "\n",
        "inner_dict = {(1,1):inner0_j1k1, (2,2):inner0_j2k2, (3,3):inner0_j3k3,\\\n",
        "             (1,2):inner0_j1k2, (1,3):inner0_j1k3, (2,3): inner0_j2k3}\n",
        "\n",
        "\n",
        "vals_dict = {1:a, 2:b, 3:g}\n",
        "\n",
        "dnpj2 = lambda j: -a(j)\n",
        "dnpj3 = lambda j: 3*n(j+1)\n",
        "\n",
        "norm_dict = {1:n, 2:dnpj2, 3:dnpj3}\n",
        "\n"
      ],
      "execution_count": 0,
      "outputs": []
    },
    {
      "cell_type": "code",
      "metadata": {
        "id": "MwKehYVmLCra",
        "colab_type": "code",
        "outputId": "9eef6c88-e142-4ebd-be67-f9c311f070db",
        "colab": {
          "base_uri": "https://localhost:8080/",
          "height": 86
        }
      },
      "source": [
        "\n",
        "\n",
        "class Polynomial:\n",
        "  \n",
        "  GM = None\n",
        "  lam = 10\n",
        "\n",
        "    \n",
        "  def has_GM(n):\n",
        "    return (not Polynomial.GM is None) and\\\n",
        "        Polynomial.GM['sob'].shape[0] >= n\n",
        "  \n",
        "  def __init__(self, coefs, j, k, inner='sob'):\n",
        "    if not len(coefs) == 3*j+3: \n",
        "      ad = np.zeros(3*j+3 - len(coefs))\n",
        "      coefs = np.append(coefs, ad)\n",
        "    self.coefs = coefs\n",
        "    self.j = j\n",
        "    self.k = k\n",
        "    self.inner = inner\n",
        "    \n",
        "  def __add__(self, other):\n",
        "    return Polynomial(self.coefs+other.coefs, self.j)\n",
        "\n",
        "\n",
        "  def basis_inner(j, i, k, ip, inner='sob'):\n",
        "    try:\n",
        "      inner_func = inner_dict[(i, ip)]\n",
        "    except KeyError:\n",
        "      inner_func = inner_dict[(ip, i)]\n",
        "    return inner_func(j, k) + Polynomial.lam*inner_func(j-1, k-1)\\\n",
        "      if inner == 'sob' else inner_func(j,k)\n",
        "  \n",
        "  def slow_inner(arr1, arr2, inner='sob'):\n",
        "    res = 0\n",
        "    for ind1 in range(len(arr1)):\n",
        "      for ind2 in range(len(arr2)):\n",
        "        if arr1[ind1] == 0 or arr2[ind2] == 0: continue\n",
        "        j = int(np.floor(ind1/3))\n",
        "        k = int(np.floor(ind2/3))\n",
        "        i = int(ind1%3 + 1)\n",
        "        ip = int(ind2%3 + 1)\n",
        "        res += \\\n",
        "        arr1[ind1]*arr2[ind2]\\\n",
        "        *Polynomial.basis_inner(j, i, k, ip, inner)\n",
        "        \n",
        "    return res\n",
        "  \n",
        "  def build_GM(n):\n",
        "    if Polynomial.has_GM(n): return\n",
        "    GM = {'sob':np.zeros((n,n)), 'leg':np.zeros((n,n))}\n",
        "    \n",
        "    for inner in ['sob', 'leg']:\n",
        "      for ind1 in range(n):\n",
        "        for ind2 in range(n):\n",
        "          if ind1 <= ind2:\n",
        "            j = int(np.floor(ind1/3))\n",
        "            k = int(np.floor(ind2/3))\n",
        "            i = int(ind1%3 + 1)\n",
        "            ip = int(ind2%3 + 1)\n",
        "            GM[inner][ind1, ind2] = \\\n",
        "              Polynomial.basis_inner(j, i, k, ip, inner)\n",
        "      GM[inner] = GM[inner] + GM[inner].T - np.diag(GM[inner].diagonal())\n",
        "    \n",
        "    Polynomial.GM = GM\n",
        "    return\n",
        "  \n",
        "  def build_condensed_GM(n, i):\n",
        "    GM = {'sob':np.zeros((n,n)), 'leg':np.zeros((n,n))}\n",
        "    for inner in ['sob', 'leg']:\n",
        "      for ind1 in range(n):\n",
        "        for ind2 in range(n):\n",
        "          if ind1 <= ind2:\n",
        "            GM[inner][ind1, ind2] = \\\n",
        "              Polynomial.basis_inner(ind1, i, ind2, i, inner)\n",
        "            \n",
        "      GM[inner] = GM[inner] + GM[inner].T - np.diag(GM[inner].diagonal())\n",
        "      \n",
        "    Polynomial.GM = GM\n",
        "  \n",
        "  def fast_inner(arr1, arr2, GM):\n",
        "    return arr1.T @ GM @ arr2\n",
        "  \n",
        "  \n",
        "  def pad(obj1, obj2):\n",
        "    if len(obj1.coefs) > len(obj2.coefs):\n",
        "      arr1 = obj1.coefs\n",
        "      arr2 = np.append(obj2.coefs,\\\n",
        "                       np.zeros(len(obj1.coefs)-len(obj2.coefs)))\n",
        "    elif len(obj1.coefs) < len(obj2.coefs):\n",
        "      arr1 = np.append(obj1.coefs,\\\n",
        "                       np.zeros(len(obj2.coefs)-len(obj1.coefs)))\n",
        "      arr2 = obj2.coefs\n",
        "    else:\n",
        "      arr1 = obj1.coefs\n",
        "      arr2 = obj2.coefs\n",
        "      \n",
        "    return arr1, arr2\n",
        "  \n",
        "  def inner(self, other):\n",
        "    arr1, arr2 = Polynomial.pad(self, other)\n",
        "    \n",
        "    n = len(arr1)\n",
        "    GM_status = Polynomial.has_GM(n)\n",
        "    print(GM_status)\n",
        "    if GM_status:\n",
        "      print('Using Fast Inner Product')\n",
        "      GM = Polynomial.GM[self.inner][:n, :n]\n",
        "      return Polynomial.fast_inner(arr1, arr2, GM)\n",
        "    print('Using Slow Inner Product')\n",
        "    return Polynomial.slow_inner(arr1, arr2, self.inner)\n",
        "  \n",
        "  def norm(self):\n",
        "    return np.sqrt(inner(self, self))\n",
        "  \n",
        "  def get_condensed_coefs(self):\n",
        "    return self.coefs[self.k-1::3]\n",
        "  \n",
        "  def value(self, i=1):\n",
        "    ccoefs = self.get_condensed_coefs()\n",
        "    valarr = array([vals_dict[self.k](m) for m in range(j+1)])\n",
        "    res = ccoefs.dot(valarr)\n",
        "    if i == 0:\n",
        "      return np.sum(ccoefs) if self.k == 0 else 0\n",
        "    if i == 1:\n",
        "      return res\n",
        "    if i == 2:\n",
        "      return res if self.k == 0 or self.k == 1 else -res\n",
        "  \n",
        "  def dnvalue(self, i=1):\n",
        "    ccoefs = self.get_condensed_coefs()\n",
        "    dnarr = array([norm_dict[self.k](m) for m in range(j+1)])\n",
        "    res = ccoefs.dot(dnarr)\n",
        "    if i == 0:\n",
        "      return np.sum(ccoefs) if self.k == 1 else 0\n",
        "    if i == 1:\n",
        "      return res\n",
        "    if i == 2:\n",
        "      return res if self.k == 0 or self.k == 1 else -res\n",
        "  \n",
        "  def get_condensed_GM(k, inner='sob'):\n",
        "    GM = Polynomial.GM[inner]\n",
        "    return GM[k-1::3, k-1::3]\n",
        "      \n",
        "    \n",
        "    \n",
        "    \n",
        "import scipy.io\n",
        "\n",
        "def generate_op(n, k, normalized=True, inner='sob'):\n",
        "  Polynomial.build_condensed_GM(n+1, k)\n",
        "#   basis_mat = np.zeros((n+1, 3*n+3))\n",
        "  \n",
        "#   for i in range(n+1):\n",
        "#     basis_mat[i, 3*i + k - 1] = 1\n",
        "  basis_mat = np.eye(n+1)\n",
        "  #o_basis_mat = np.zeros((n+1, 3*n+3))\n",
        "  o_basis_mat = np.zeros((n+1, n+1))\n",
        "  \n",
        "  o_basis_mat[0] = basis_mat[0]\n",
        "  for r in range(1, n+1):\n",
        "    res = np.zeros(n+1)\n",
        "    u_r = basis_mat[r]\n",
        "    for i in range(r):\n",
        "      v_i = o_basis_mat[i]\n",
        "      le = len(u_r)\n",
        "      GM = Polynomial.GM[inner][:le, :le]\n",
        "      proj = Polynomial.fast_inner(u_r, v_i, GM)\n",
        "      norm = Polynomial.fast_inner(v_i, v_i, GM)\n",
        "      res += proj/norm*v_i\n",
        "    o_basis_mat[r] = basis_mat[r] - res\n",
        "    \n",
        "  if normalized:\n",
        "    for i in range(n+1):\n",
        "      norm = Polynomial.fast_inner(o_basis_mat[i], o_basis_mat[i],\n",
        "                                  GM)\n",
        "      o_basis_mat[i] /= np.sqrt(norm)\n",
        "  return o_basis_mat#, o_basis_mat[:, k-1::3]\n",
        "  \n",
        "j = 15\n",
        "k = 3\n",
        "ops = generate_op(j,k,1)\n",
        "#arr1 = ops[2]\n",
        "# arr2 = ops[3]\n",
        "# Polynomial.fast_inner(arr1, arr2, Polynomial.GM)]\n",
        "#print(ops)\n",
        "\n",
        "\n",
        "# poly_arr = np.array([Polynomial(r, j, k) for r in ops[0]])\n",
        "\n",
        "# for k in range(j):\n",
        "#   sn1 = poly_arr[k+1].value()\n",
        "#   sn = poly_arr[k].value()\n",
        "#   dsn1 = poly_arr[k+1].dnvalue()\n",
        "#   dsn = poly_arr[k].dnvalue()\n",
        "#   print(sn1*dsn - sn*dsn1)\n",
        "#print(repr(ops))\n",
        "\n",
        "scipy.io.savemat('coefs.mat', dict(ops=ops))\n",
        "ops[2]\n",
        "    \n",
        "    \n",
        "   "
      ],
      "execution_count": 5,
      "outputs": [
        {
          "output_type": "execute_result",
          "data": {
            "text/plain": [
              "array([ 6.36446182e-02, -5.00620792e+00,  2.45759742e+02,  0.00000000e+00,\n",
              "        0.00000000e+00,  0.00000000e+00,  0.00000000e+00,  0.00000000e+00,\n",
              "        0.00000000e+00,  0.00000000e+00,  0.00000000e+00,  0.00000000e+00,\n",
              "        0.00000000e+00,  0.00000000e+00,  0.00000000e+00,  0.00000000e+00])"
            ]
          },
          "metadata": {
            "tags": []
          },
          "execution_count": 5
        }
      ]
    },
    {
      "cell_type": "markdown",
      "metadata": {
        "id": "hKi5d_PLu7ku",
        "colab_type": "text"
      },
      "source": [
        "###Checking behavior of d_n(f_n(q_0))"
      ]
    },
    {
      "cell_type": "code",
      "metadata": {
        "id": "7GXX7p7SvLeS",
        "colab_type": "code",
        "colab": {}
      },
      "source": [
        ""
      ],
      "execution_count": 0,
      "outputs": []
    },
    {
      "cell_type": "markdown",
      "metadata": {
        "id": "wfeC75rZKpYM",
        "colab_type": "text"
      },
      "source": [
        "##Symmetric OPs"
      ]
    },
    {
      "cell_type": "code",
      "metadata": {
        "id": "Twq14HdqFQxg",
        "colab_type": "code",
        "outputId": "55e0e0e8-6be6-4511-bd5b-e200cdea9d0c",
        "colab": {
          "base_uri": "https://localhost:8080/",
          "height": 774
        }
      },
      "source": [
        "def pnj1(nn, j, i):\n",
        "  return int(j == 0) if i == nn else a(j)\n",
        "\n",
        "def d_pnj1(nn, j, i):\n",
        "  return 0 if i == nn else n(j)\n",
        "\n",
        "\n",
        "def inner_pnj1pmk1(nn, j, m, k):\n",
        "  if nn == m: return inner0_j1k1(j,k)\n",
        "  res = 0\n",
        "  for l in range(j+1):\n",
        "    s1 = 0\n",
        "    for i in range(3):\n",
        "      s1 += pnj1(nn, j-l, i)*d_pnj1(m, k+l+1, i)\\\n",
        "        -pnj1(m, k+l+1, i)*d_pnj1(nn, j-l, i)\n",
        "    res += s1\n",
        "  return res\n",
        "\n",
        "\n",
        "def inner_rjrk(j,k, lam = 1):\n",
        "  res = 0\n",
        "  for nn in range(3):\n",
        "    for m in range(3):\n",
        "      res += inner_pnj1pmk1(nn, j, m, k) \\\n",
        "      + lam*inner_pnj1pmk1(nn, j-1, m, k-1)\n",
        "  return res\n",
        "\n",
        "\n",
        "\n",
        "\n",
        "\n",
        "\n",
        "def symm_inner(arr1, arr2, SGM):\n",
        "  return arr1.T @ SGM @ arr2\n",
        "\n",
        "def generate_symm_ops(n, normalized=False):\n",
        "  SGM = np.zeros((n+1, n+1))\n",
        "\n",
        "  for ind1 in range(n+1):\n",
        "    for ind2 in range(n+1):\n",
        "      if ind1 <= ind2:\n",
        "        SGM[ind1, ind2] = inner_rjrk(ind1, ind2)\n",
        "\n",
        "  SGM = SGM + SGM.T - \\\n",
        "      np.diag(SGM.diagonal())\n",
        "  print(repr(np.linalg.eig(SGM)))\n",
        "  basis_mat = np.eye(n+1)\n",
        "  o_basis_mat = np.zeros((n+1, n+1))\n",
        "  \n",
        "  o_basis_mat[0] = basis_mat[0]\n",
        "  for r in range(1, n+1):\n",
        "    res = np.zeros(n+1)\n",
        "    u_r = basis_mat[r]\n",
        "    for i in range(r):\n",
        "      v_i = o_basis_mat[i]\n",
        "      le = len(u_r)\n",
        "      proj = symm_inner(u_r, v_i, SGM)\n",
        "      norm = symm_inner(v_i, v_i, SGM)\n",
        "      res += proj/norm*v_i\n",
        "    o_basis_mat[r] = basis_mat[r] - res\n",
        "    \n",
        "  if normalized:\n",
        "    for i in range(n+1):\n",
        "      norm = symm_inner(o_basis_mat[i], o_basis_mat[i],\n",
        "                                  SGM)\n",
        "      print(o_basis_mat[i])\n",
        "      print(norm)\n",
        "      o_basis_mat[i] /= np.sqrt(norm)\n",
        "  \n",
        "  return o_basis_mat, SGM\n",
        "\n",
        "num = 6\n",
        "sops , SGM = generate_symm_ops(num, 1)\n",
        "sops\n",
        "arr1 = sops[1]\n",
        "arr2 = sops[2]\n",
        "symm_inner(arr1, arr2, SGM)"
      ],
      "execution_count": 0,
      "outputs": [
        {
          "output_type": "stream",
          "text": [
            "(array([ 9.52917864e+00,  8.52825099e+00,  1.85062761e-03,  5.83069035e-09,\n",
            "        1.34243234e-15,  9.97567574e-23, -6.51606742e-29]), array([[ 6.86553242e-01,  7.27076016e-01, -2.26017757e-03,\n",
            "        -6.99411023e-05, -2.45112922e-06,  8.90170658e-08,\n",
            "         3.22142709e-09],\n",
            "       [ 7.26043924e-01, -6.85406107e-01,  5.54539772e-02,\n",
            "         1.88176129e-03,  6.64185682e-05, -2.41347672e-06,\n",
            "        -8.73464935e-08],\n",
            "       [ 3.87884264e-02, -3.97313797e-02, -9.97269339e-01,\n",
            "        -4.86572126e-02, -1.79205451e-03,  6.54031530e-05,\n",
            "         2.36820720e-06],\n",
            "       [ 5.70242583e-04, -5.93769398e-04, -4.87172300e-02,\n",
            "         9.97709804e-01,  4.68826088e-02, -1.76555484e-03,\n",
            "        -6.41814232e-05],\n",
            "       [ 3.77103684e-06, -3.95045311e-06, -4.94113851e-04,\n",
            "         4.69457935e-02, -9.97821102e-01,  4.63237717e-02,\n",
            "         1.73355867e-03],\n",
            "       [ 1.36318354e-08, -1.43199879e-08, -2.23935599e-06,\n",
            "         4.10809446e-04, -4.63864825e-02, -9.97880152e-01,\n",
            "        -4.56435084e-02],\n",
            "       [ 3.05823705e-11, -3.21737465e-11, -5.79249505e-09,\n",
            "         1.51891270e-06, -3.84848816e-04, -4.56748171e-02,\n",
            "         9.98956286e-01]]))\n",
            "[1. 0. 0. 0. 0. 0. 0.]\n",
            "9.0\n",
            "[-0.05555556  1.          0.          0.          0.          0.\n",
            "  0.        ]\n",
            "9.00185185185185\n",
            "[ 0.0022633  -0.05555415  1.          0.          0.          0.\n",
            "  0.        ]\n",
            "0.0018519435484004093\n",
            "[-7.00619999e-05  1.88503701e-03 -4.87454927e-02  1.00000000e+00\n",
            "  0.00000000e+00  0.00000000e+00  0.00000000e+00]\n",
            "5.831683713034512e-09\n",
            "[ 2.45532929e-06 -6.65324419e-05  1.79514021e-03 -4.69658719e-02\n",
            "  1.00000000e+00  0.00000000e+00  0.00000000e+00]\n",
            "1.3425027221911845e-15\n",
            "[-8.91672820e-08  2.41754972e-06 -6.55135822e-05  1.76854738e-03\n",
            " -4.64045575e-02  1.00000000e+00  0.00000000e+00]\n",
            "9.976616745967766e-23\n",
            "[ 3.22499014e-09 -8.74431024e-08  2.37082647e-06 -6.42523933e-05\n",
            "  1.73547257e-03 -4.56934102e-02  1.00000000e+00]\n",
            "-6.555455106503233e-29\n"
          ],
          "name": "stdout"
        },
        {
          "output_type": "stream",
          "text": [
            "/usr/local/lib/python3.6/dist-packages/ipykernel_launcher.py:65: RuntimeWarning: invalid value encountered in sqrt\n"
          ],
          "name": "stderr"
        },
        {
          "output_type": "execute_result",
          "data": {
            "text/plain": [
              "-4.440892098500626e-16"
            ]
          },
          "metadata": {
            "tags": []
          },
          "execution_count": 102
        }
      ]
    },
    {
      "cell_type": "markdown",
      "metadata": {
        "id": "glktI8lYftg4",
        "colab_type": "text"
      },
      "source": [
        "#Plotting"
      ]
    },
    {
      "cell_type": "code",
      "metadata": {
        "id": "Xm6B37_UTE_Z",
        "colab_type": "code",
        "outputId": "589eaa3a-9839-4731-ed78-ce093a3296e9",
        "colab": {
          "base_uri": "https://localhost:8080/",
          "height": 269
        }
      },
      "source": [
        "import itertools\n",
        "import matplotlib.transforms as trans\n",
        "\n",
        "\n",
        "q0 = np.array([0.5, np.sqrt(3)/2])\n",
        "q1 = np.array([0,0])\n",
        "q2 = np.array([1,0])\n",
        "\n",
        "q_dict = {0:q0, 1:q1, 2:q2}\n",
        "\n",
        "fi = lambda x, i: 1/2*(x-q_dict[i]) + q_dict[i]\n",
        "\n",
        "f_dict = {0:lambda x:fi(x, 0), 1:lambda x:fi(x, 1), 2:lambda x:fi(x, 2)}\n",
        "\n",
        "V0 = np.array([q0,q1,q2, q0])\n",
        "\n",
        "def grouper(n, iterable, fillvalue=None):\n",
        "    \"grouper(3, 'ABCDEFG', 'x') --> ABC DEF Gxx\"\n",
        "    args = [iter(iterable)] * n\n",
        "    return itertools.zip_longest(fillvalue=fillvalue, *args)\n",
        "\n",
        "def generate_vertices(m):\n",
        "  words = list(itertools.product(range(3), repeat=m))\n",
        "  V = []\n",
        "  for q in V0:\n",
        "    for word in words:\n",
        "      point = q\n",
        "      for letter in word:\n",
        "        point = f_dict[letter](point)\n",
        "      V.append(point)\n",
        "  return np.array(V)\n",
        "\n",
        "\n",
        "V = generate_vertices(2)\n",
        "\n",
        "# for cell in grouper(3, V):\n",
        "#   cell = np.array(cell)\n",
        "#   cell = np.vstack((cell, cell[0]))\n",
        "#   plt.plot(cell[:, 0], cell[:, 1], 'b')\n",
        "#   plt.plot(V[i:i+2,0], V[i:i+2, 1], 'b')\n",
        "\n",
        "plt.plot(V0[:,0], V0[:,1], 'b')\n",
        "plt.show()"
      ],
      "execution_count": 0,
      "outputs": [
        {
          "output_type": "display_data",
          "data": {
            "image/png": "[encoded data removed]",
            "text/plain": [
              "<Figure size 432x288 with 1 Axes>"
            ]
          },
          "metadata": {
            "tags": []
          }
        }
      ]
    },
    {
      "cell_type": "code",
      "metadata": {
        "id": "VXPIIYcfhllc",
        "colab_type": "code",
        "outputId": "9e86c0ee-77a2-4593-8499-2984bb58f515",
        "colab": {
          "base_uri": "https://localhost:8080/",
          "height": 269
        }
      },
      "source": [
        "import matplotlib.patches as patches\n",
        "from mpl_toolkits.mplot3d import Axes3D\n",
        "\n",
        "def get_image():\n",
        "    return np.array([q0,q1,q2, q0])\n",
        "\n",
        "  \n",
        "fig = plt.figure()\n",
        "ax = fig.add_subplot(111)\n",
        "\n",
        "def transform(i, ax):\n",
        "  qi = q_dict[i]\n",
        "  t1 = trans.Affine2D().translate(-qi[0], -qi[1])\n",
        "  t2 = trans.Affine2D().scale(0.5, 0.5)\n",
        "  t3 = trans.Affine2D().translate(qi[0], qi[1])\n",
        "  return t1 + t2 + t3\n",
        "\n",
        "def plot_sg(m, ax):\n",
        "  words = list(itertools.product(range(3), repeat=m))\n",
        "  for word in words:\n",
        "    polygon = patches.Polygon([q0,q1,q2], color=\"blue\", fill=0)\n",
        "    t = trans.Affine2D().rotate_deg(0)\n",
        "    for letter in word:\n",
        "      t += transform(letter, ax)\n",
        "    t += ax.transData\n",
        "    polygon.set_transform(t)\n",
        "    ax.add_patch(polygon)\n",
        "  plt.show()\n",
        "\n",
        "plot_sg(6, ax)"
      ],
      "execution_count": 0,
      "outputs": [
        {
          "output_type": "display_data",
          "data": {
            "image/png": "[encoded data removed]",
            "text/plain": [
              "<Figure size 432x288 with 1 Axes>"
            ]
          },
          "metadata": {
            "tags": []
          }
        }
      ]
    },
    {
      "cell_type": "markdown",
      "metadata": {
        "id": "VOpyIec2WIXR",
        "colab_type": "text"
      },
      "source": [
        "#Save Code and Images"
      ]
    },
    {
      "cell_type": "code",
      "metadata": {
        "id": "4sDWRiavWTg6",
        "colab_type": "code",
        "colab": {}
      },
      "source": [
        "!zip -r images.zip images"
      ],
      "execution_count": 0,
      "outputs": []
    },
    {
      "cell_type": "code",
      "metadata": {
        "id": "zCfPa9hvWAMU",
        "colab_type": "code",
        "colab": {}
      },
      "source": [
        "!apt-get install texlive texlive-xetex texlive-latex-extra pandoc\n",
        "!pip install pypandoc"
      ],
      "execution_count": 0,
      "outputs": []
    },
    {
      "cell_type": "code",
      "metadata": {
        "id": "BgG84LBCWNV7",
        "colab_type": "code",
        "colab": {}
      },
      "source": [
        "# !cp /content/gdrive/My\\ Drive/Colab\\ Notebooks/ENTER FILENAME\n",
        "# !jupyter nbconvert --to PDF \"Project 3.ipynb\""
      ],
      "execution_count": 0,
      "outputs": []
    }
  ]
}